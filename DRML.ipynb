 {
 "cells": [
  {
   "cell_type": "code",
   "execution_count": 5,
   "id": "74efb545-2f16-4e3a-a7ce-ffa6ef8d7076",
   "metadata": {},
   "outputs": [],
   "source": [
    "import numpy as np\n",
    "import pandas as pd\n",
    "import matplotlib.pyplot as plt\n",
    "import seaborn as sns\n",
    "import cv2  # OpenCV for image processing\n",
    "import os  # For file handling\n",
    "from sklearn.model_selection import train_test_split\n",
    "from tensorflow.keras.models import Sequential\n",
    "from tensorflow.keras.layers import Conv2D, MaxPooling2D, Flatten, Dense, Dropout\n",
    "from tensorflow.keras.preprocessing.image import ImageDataGenerator\n",
    "from tensorflow.keras.utils import to_categorical\n"
   ]
  },
  {
   "cell_type": "code",
   "execution_count": 9,
   "id": "10e0e663-5b20-4024-9798-df46ec875fb3",
   "metadata": {},
   "outputs": [],
   "source": [
    "DATA_DIR  = \"C:/Users/sunny/OneDrive/Desktop/DR_Project/\"\n",
    "categories = [\"No_DR\", \"Mild\", \"Moderate\", \"Severe\", \"Proliferative\"]\n",
    "\n",
    "# Function to load images\n",
    "def load_images(data_dir, categories):\n",
    "    data = []\n",
    "    for category in categories:\n",
    "        path = os.path.join(data_dir, category)\n",
    "        label = categories.index(category)\n",
    "        for img_name in os.listdir(path):\n",
    "            try:\n",
    "                img_path = os.path.join(path, img_name)\n",
    "                img = cv2.imread(img_path, cv2.IMREAD_COLOR)\n",
    "                img = cv2.resize(img, (224, 224))  # Resize images\n",
    "                data.append([img, label])\n",
    "            except Exception as e:\n",
    "                pass\n",
    "    return np.array(data, dtype=object)\n",
    "\n",
    "data = load_images(DATA_DIR, categories)\n"
   ]
  },
  {
   "cell_type": "code",
   "execution_count": 10,
   "id": "fd425809-4b45-4df0-82b3-d36e4f189bcd",
   "metadata": {},
   "outputs": [],
   "source": [
    "# Separate features and labels\n",
    "data = load_images(DATA_DIR, categories)\n",
    "images, labels = [], []\n",
    "for feature, label in data:\n",
    "    images.append(feature)\n",
    "    labels.append(label)\n",
    "\n",
    "# Convert to numpy arrays\n",
    "X = np.array(images) / 255.0  # Normalize pixel values to [0, 1]\n",
    "y = to_categorical(labels, num_classes=len(categories))  # One-hot encode labels\n",
    "\n",
    "# Train-test split\n",
    "X_train, X_val, y_train, y_val = train_test_split(X, y, test_size=0.2, random_state=42)\n"
   ]
  },
  {
   "cell_type": "code",
   "execution_count": 11,
   "id": "90cf6bcf-fd5b-46aa-ab02-c03a1a4c5288",
   "metadata": {},
   "outputs": [],
   "source": [
    "datagen = ImageDataGenerator(\n",
    "    rotation_range=20,\n",
    "    width_shift_range=0.2,\n",
    "    height_shift_range=0.2,\n",
    "    zoom_range=0.2,\n",
    "    horizontal_flip=True\n",
    ")\n",
    "datagen.fit(X_train)\n"
   ]
  },
  {
   "cell_type": "code",
   "execution_count": 12,
   "id": "c4f7583d-cbe6-4f76-a8e1-e4a98fe5ccf6",
   "metadata": {},
   "outputs": [
    {
     "name": "stdout",
     "output_type": "stream",
     "text": [
      "Model: \"sequential\"\n",
      "_________________________________________________________________\n",
      " Layer (type)                Output Shape              Param #   \n",
      "=================================================================\n",
      " conv2d (Conv2D)             (None, 222, 222, 32)      896       \n",
      "                                                                 \n",
      " max_pooling2d (MaxPooling2  (None, 111, 111, 32)      0         \n",
      " D)                                                              \n",
      "                                                                 \n",
      " conv2d_1 (Conv2D)           (None, 109, 109, 64)      18496     \n",
      "                                                                 \n",
      " max_pooling2d_1 (MaxPoolin  (None, 54, 54, 64)        0         \n",
      " g2D)                                                            \n",
      "                                                                 \n",
      " conv2d_2 (Conv2D)           (None, 52, 52, 128)       73856     \n",
      "                                                                 \n",
      " max_pooling2d_2 (MaxPoolin  (None, 26, 26, 128)       0         \n",
      " g2D)                                                            \n",
      "                                                                 \n",
      " flatten (Flatten)           (None, 86528)             0         \n",
      "                                                                 \n",
      " dense (Dense)               (None, 128)               11075712  \n",
      "                                                                 \n",
      " dropout (Dropout)           (None, 128)               0         \n",
      "                                                                 \n",
      " dense_1 (Dense)             (None, 5)                 645       \n",
      "                                                                 \n",
      "=================================================================\n",
      "Total params: 11169605 (42.61 MB)\n",
      "Trainable params: 11169605 (42.61 MB)\n",
      "Non-trainable params: 0 (0.00 Byte)\n",
      "_________________________________________________________________\n"
     ]
    }
   ],
   "source": [
    "model = Sequential([\n",
    "    Conv2D(32, (3, 3), activation='relu', input_shape=(224, 224, 3)),\n",
    "    MaxPooling2D((2, 2)),\n",
    "    Conv2D(64, (3, 3), activation='relu'),\n",
    "    MaxPooling2D((2, 2)),\n",
    "    Conv2D(128, (3, 3), activation='relu'),\n",
    "    MaxPooling2D((2, 2)),\n",
    "    Flatten(),\n",
    "    Dense(128, activation='relu'),\n",
    "    Dropout(0.5),\n",
    "    Dense(len(categories), activation='softmax')  # Output layer\n",
    "])\n",
    "\n",
    "model.compile(optimizer='adam', loss='categorical_crossentropy', metrics=['accuracy'])\n",
    "model.summary()\n"
   ]
  },
  {
   "cell_type": "code",
   "execution_count": 13,
   "id": "967a79b1-ba71-4788-82f3-fbdddf439e7c",
   "metadata": {},
   "outputs": [
    {
     "name": "stdout",
     "output_type": "stream",
     "text": [
      "Epoch 1/20\n",
      "14/14 [==============================] - 17s 1s/step - loss: 1.7310 - accuracy: 0.2374 - val_loss: 1.6262 - val_accuracy: 0.1909\n",
      "Epoch 2/20\n",
      "14/14 [==============================] - 15s 1s/step - loss: 1.5834 - accuracy: 0.2671 - val_loss: 1.5656 - val_accuracy: 0.2909\n",
      "Epoch 3/20\n",
      "14/14 [==============================] - 15s 1s/step - loss: 1.5695 - accuracy: 0.2717 - val_loss: 1.5395 - val_accuracy: 0.3455\n",
      "Epoch 4/20\n",
      "14/14 [==============================] - 15s 1s/step - loss: 1.5683 - accuracy: 0.2648 - val_loss: 1.5287 - val_accuracy: 0.3455\n",
      "Epoch 5/20\n",
      "14/14 [==============================] - 16s 1s/step - loss: 1.5553 - accuracy: 0.2671 - val_loss: 1.5146 - val_accuracy: 0.3455\n",
      "Epoch 6/20\n",
      "14/14 [==============================] - 16s 1s/step - loss: 1.5350 - accuracy: 0.3174 - val_loss: 1.4723 - val_accuracy: 0.3545\n",
      "Epoch 7/20\n",
      "14/14 [==============================] - 15s 1s/step - loss: 1.4919 - accuracy: 0.3219 - val_loss: 1.3838 - val_accuracy: 0.3727\n",
      "Epoch 8/20\n",
      "14/14 [==============================] - 16s 1s/step - loss: 1.4262 - accuracy: 0.3699 - val_loss: 1.3581 - val_accuracy: 0.4273\n",
      "Epoch 9/20\n",
      "14/14 [==============================] - 15s 1s/step - loss: 1.4043 - accuracy: 0.3767 - val_loss: 1.3507 - val_accuracy: 0.4273\n",
      "Epoch 10/20\n",
      "14/14 [==============================] - 16s 1s/step - loss: 1.4651 - accuracy: 0.3653 - val_loss: 1.4238 - val_accuracy: 0.4545\n",
      "Epoch 11/20\n",
      "14/14 [==============================] - 15s 1s/step - loss: 1.4077 - accuracy: 0.3447 - val_loss: 1.3522 - val_accuracy: 0.4818\n",
      "Epoch 12/20\n",
      "14/14 [==============================] - 15s 1s/step - loss: 1.3688 - accuracy: 0.3767 - val_loss: 1.3786 - val_accuracy: 0.3000\n",
      "Epoch 13/20\n",
      "14/14 [==============================] - 15s 1s/step - loss: 1.4028 - accuracy: 0.3151 - val_loss: 1.4003 - val_accuracy: 0.2727\n",
      "Epoch 14/20\n",
      "14/14 [==============================] - 15s 1s/step - loss: 1.4100 - accuracy: 0.3744 - val_loss: 1.3714 - val_accuracy: 0.3455\n",
      "Epoch 15/20\n",
      "14/14 [==============================] - 16s 1s/step - loss: 1.3880 - accuracy: 0.3790 - val_loss: 1.3850 - val_accuracy: 0.3545\n",
      "Epoch 16/20\n",
      "14/14 [==============================] - 16s 1s/step - loss: 1.3687 - accuracy: 0.4110 - val_loss: 1.3025 - val_accuracy: 0.4182\n",
      "Epoch 17/20\n",
      "14/14 [==============================] - 16s 1s/step - loss: 1.3459 - accuracy: 0.3950 - val_loss: 1.2992 - val_accuracy: 0.4455\n",
      "Epoch 18/20\n",
      "14/14 [==============================] - 16s 1s/step - loss: 1.3554 - accuracy: 0.3721 - val_loss: 1.3200 - val_accuracy: 0.4091\n",
      "Epoch 19/20\n",
      "14/14 [==============================] - 16s 1s/step - loss: 1.3616 - accuracy: 0.3995 - val_loss: 1.3173 - val_accuracy: 0.4182\n",
      "Epoch 20/20\n",
      "14/14 [==============================] - 16s 1s/step - loss: 1.3352 - accuracy: 0.3813 - val_loss: 1.3415 - val_accuracy: 0.3455\n"
     ]
    }
   ],
   "source": [
    "history = model.fit(\n",
    "    datagen.flow(X_train, y_train, batch_size=32),\n",
    "    epochs=20,\n",
    "    validation_data=(X_val, y_val)\n",
    ")\n"
   ]
  },
  {
   "cell_type": "code",
   "execution_count": 14,
   "id": "11086b33-a21e-40c4-afd1-8bfc4ae1e4db",
   "metadata": {},
   "outputs": [
    {
     "name": "stdout",
     "output_type": "stream",
     "text": [
      "4/4 [==============================] - 1s 140ms/step - loss: 1.3415 - accuracy: 0.3455\n",
      "Validation Accuracy: 34.55%\n"
     ]
    },
    {
     "data": {
      "image/png": "[encoded data removed]",
      "text/plain": [
       "<Figure size 640x480 with 1 Axes>"
      ]
     },
     "metadata": {},
     "output_type": "display_data"
    }
   ],
   "source": [
    "# Evaluate\n",
    "loss, acc = model.evaluate(X_val, y_val)\n",
    "print(f\"Validation Accuracy: {acc*100:.2f}%\")\n",
    "\n",
    "# Plot training history\n",
    "plt.plot(history.history['accuracy'], label='Train Accuracy')\n",
    "plt.plot(history.history['val_accuracy'], label='Validation Accuracy')\n",
    "plt.xlabel('Epochs')\n",
    "plt.ylabel('Accuracy')\n",
    "plt.legend()\n",
    "plt.show()\n"
   ]
  },
  {
   "cell_type": "code",
   "execution_count": 16,
   "id": "0cb498e9-a800-41ba-8025-e979ebf1b3d5",
   "metadata": {},
   "outputs": [],
   "source": [
    "model.save(\"diabetic_retinopathy_model.h5\")\n",
    "model.save('model.h5', save_format='h5')\n",
    "\n"
   ]
  },
  {
   "cell_type": "code",
   "execution_count": null,
   "id": "637b89c5-5b95-494d-955e-2edc7d4ecc84",
   "metadata": {},
   "outputs": [],
   "source": []
  },
  {
   "cell_type": "code",
   "execution_count": null,
   "id": "d580dc46-c123-4c28-b1c4-3b8152c47f63",
   "metadata": {},
   "outputs": [],
   "source": []
  }
 ],
 "metadata": {
  "kernelspec": {
   "display_name": "Python 3 (ipykernel)",
   "language": "python",
   "name": "python3"
  },
  "language_info": {
   "codemirror_mode": {
    "name": "ipython",
    "version": 3
   },
   "file_extension": ".py",
   "mimetype": "text/x-python",
   "name": "python",
   "nbconvert_exporter": "python",
   "pygments_lexer": "ipython3",
   "version": "3.8.20"
  }
 },
 "nbformat": 4,
 "nbformat_minor": 5
}
